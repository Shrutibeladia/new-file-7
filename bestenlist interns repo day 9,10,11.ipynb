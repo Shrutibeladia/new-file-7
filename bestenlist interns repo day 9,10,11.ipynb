{
 "cells": [
  {
   "cell_type": "markdown",
   "metadata": {},
   "source": [
    "# Day 9"
   ]
  },
  {
   "cell_type": "code",
   "execution_count": 1,
   "metadata": {},
   "outputs": [
    {
     "name": "stdout",
     "output_type": "stream",
     "text": [
      "20\n"
     ]
    }
   ],
   "source": [
    "# Task 1\n",
    "a = lambda x, y : x * y\n",
    "print(a(2, 10))\n"
   ]
  },
  {
   "cell_type": "code",
   "execution_count": 2,
   "metadata": {},
   "outputs": [
    {
     "name": "stdout",
     "output_type": "stream",
     "text": [
      "Fibonacci series upto 10: [0, 1, 1, 2, 3, 5, 8, 13, 21]\n"
     ]
    }
   ],
   "source": [
    "# Task 2\n",
    "from functools import reduce\n",
    "fibonacci = lambda n: reduce(lambda x, _: x+[x[-1]+x[-2]], range(n-2), [0, 1])\n",
    " \n",
    "print(\"Fibonacci series upto 10:\", fibonacci(9))"
   ]
  },
  {
   "cell_type": "code",
   "execution_count": 3,
   "metadata": {},
   "outputs": [
    {
     "name": "stdout",
     "output_type": "stream",
     "text": [
      "The original list is [2, 4, 6, 9, 11]\n",
      "The list after multiplying by 2 is [4, 8, 12, 18, 22]\n"
     ]
    }
   ],
   "source": [
    "# Task 3\n",
    "nums = [2, 4, 6, 9 , 11]\n",
    "x = 2\n",
    "print(\"The original list is\", nums)\n",
    "nums_updated = list(map(lambda y:y*x, nums))\n",
    "print(\"The list after multiplying by 2 is\", nums_updated)"
   ]
  },
  {
   "cell_type": "code",
   "execution_count": 4,
   "metadata": {},
   "outputs": [
    {
     "name": "stdout",
     "output_type": "stream",
     "text": [
      "The numbers divisible by 9 are: 18 36 "
     ]
    }
   ],
   "source": [
    "# Task 4\n",
    "nums = [2, 18, 4, 36]\n",
    "print(\"The numbers divisible by 9 are:\", end=\" \")\n",
    "for i in nums: \n",
    "    if i % 9 == 0: \n",
    "        print(i, end=\" \")"
   ]
  },
  {
   "cell_type": "code",
   "execution_count": 5,
   "metadata": {},
   "outputs": [
    {
     "name": "stdout",
     "output_type": "stream",
     "text": [
      "The even numbers in the list are: 4 36 "
     ]
    }
   ],
   "source": [
    "# Task 5\n",
    "nums = [3, 19, 4, 36]\n",
    "print(\"The even numbers in the list are:\", end=\" \")\n",
    "for i in nums:\n",
    "    if i % 2 == 0: \n",
    "        print(i, end=\" \")\n"
   ]
  },
  {
   "cell_type": "markdown",
   "metadata": {},
   "source": [
    "# day 10"
   ]
  },
  {
   "cell_type": "code",
   "execution_count": 7,
   "metadata": {},
   "outputs": [
    {
     "name": "stdout",
     "output_type": "stream",
     "text": [
      "False\n",
      "True\n"
     ]
    }
   ],
   "source": [
    "# Task 1\n",
    "import re\n",
    "print(bool(re.match(\"^[A-Za-z0-9_-]*$\", 'This will give ans as 0 or false')))\n",
    "print(bool(re.match(\"^[A-Za-z0-9_-]*$\", 'ThisWillGiveAnsAsTrueOr1')))\n"
   ]
  },
  {
   "cell_type": "code",
   "execution_count": 8,
   "metadata": {},
   "outputs": [
    {
     "name": "stdout",
     "output_type": "stream",
     "text": [
      "abnormal\n",
      "No word found with 'ab' init\n"
     ]
    }
   ],
   "source": [
    "# Task 2\n",
    "import re\n",
    "string1 = \"This will give abnormal as ans\"\n",
    "string2 = \"This will return No word found\"\n",
    "\n",
    "def word_checker(string) :\n",
    "    regex = re.compile(\"ab+\\w*\")\n",
    "    word_found = regex.findall(string)\n",
    "    if len(word_found) != 0 : \n",
    "        for word in word_found : \n",
    "            print(word)\n",
    "    else : \n",
    "        print(\"No word found with 'ab' init\")\n",
    "\n",
    "word_checker(string1)\n",
    "word_checker(string2)"
   ]
  },
  {
   "cell_type": "code",
   "execution_count": 9,
   "metadata": {},
   "outputs": [
    {
     "name": "stdout",
     "output_type": "stream",
     "text": [
      "Found a number at the end of string\n",
      "Didn't find a number at the end of string\n"
     ]
    }
   ],
   "source": [
    "# Task 3\n",
    "import re\n",
    "def check_num_at_end(string):\n",
    "    regex = re.compile(r\".*[0-9]$\")\n",
    "    if regex.match(string):\n",
    "        print(\"Found a number at the end of string\")\n",
    "    else:\n",
    "        print(\"Didn't find a number at the end of string\")\n",
    "\n",
    "check_num_at_end('Shruti99')\n",
    "check_num_at_end('Shruti')"
   ]
  },
  {
   "cell_type": "code",
   "execution_count": 10,
   "metadata": {},
   "outputs": [
    {
     "name": "stdout",
     "output_type": "stream",
     "text": [
      "['100', '293', '290', '93', '929', '39']\n"
     ]
    }
   ],
   "source": [
    "# Task 4\n",
    "import re\n",
    "string = \"100asdfsdf293290sdfds93asdf92939\"\n",
    "array = re.findall(r'[0-9]{1,3}', string)\n",
    "print(array)\n"
   ]
  },
  {
   "cell_type": "code",
   "execution_count": 11,
   "metadata": {},
   "outputs": [
    {
     "name": "stdout",
     "output_type": "stream",
     "text": [
      "Found uppercase letters in the string\n",
      "No uppercase letters were found in the string\n"
     ]
    }
   ],
   "source": [
    "# Task 5\n",
    "import re\n",
    "def check_uppercase_letters(string):\n",
    "    regex = '^[A-Z]*$'\n",
    "    if re.search(regex, string):\n",
    "        print(\"Found uppercase letters in the string\")\n",
    "    else:\n",
    "        print(\"No uppercase letters were found in the string\")\n",
    "\n",
    "check_uppercase_letters(\"THESEAREUPPERCASELETTERS\")\n",
    "check_uppercase_letters(\"thesearelowercaseletters\")"
   ]
  },
  {
   "cell_type": "markdown",
   "metadata": {},
   "source": [
    "# Day 11"
   ]
  },
  {
   "cell_type": "code",
   "execution_count": 12,
   "metadata": {},
   "outputs": [
    {
     "name": "stdout",
     "output_type": "stream",
     "text": [
      "[(34, 45), (32, 675), (55, 32)]\n"
     ]
    }
   ],
   "source": [
    "# Task 1\n",
    "nums1 = [34, 32, 55, 234, 546]\n",
    "nums2 = [45, 675, 32]\n",
    "zipped_list = list(zip(nums1, nums2))  \n",
    "print(zipped_list)"
   ]
  },
  {
   "cell_type": "code",
   "execution_count": 13,
   "metadata": {},
   "outputs": [
    {
     "name": "stdout",
     "output_type": "stream",
     "text": [
      "[(1, 34), (2, 32), (3, 55), (4, 234), (5, 546), (6, 45), (7, 675)]\n"
     ]
    }
   ],
   "source": [
    "# Task 2\n",
    "nums = [x for x in range(1, 8)]\n",
    "nums1 = [34, 32, 55, 234, 546, 45, 675, 32]\n",
    "zipped_list = list(zip(nums, nums1))\n",
    "print(zipped_list)"
   ]
  },
  {
   "cell_type": "code",
   "execution_count": 14,
   "metadata": {},
   "outputs": [
    {
     "name": "stdout",
     "output_type": "stream",
     "text": [
      "[32, 32, 34, 45, 55, 234, 546, 675]\n"
     ]
    }
   ],
   "source": [
    "# Task 3\n",
    "print(sorted(nums1))"
   ]
  },
  {
   "cell_type": "code",
   "execution_count": 15,
   "metadata": {},
   "outputs": [
    {
     "name": "stdout",
     "output_type": "stream",
     "text": [
      "[55, 45, 675]\n"
     ]
    }
   ],
   "source": [
    "# Task 4\n",
    "odd_nums = list(filter(lambda x:x%2!=0, nums1))\n",
    "print(odd_nums)\n"
   ]
  },
  {
   "cell_type": "code",
   "execution_count": null,
   "metadata": {},
   "outputs": [],
   "source": []
  }
 ],
 "metadata": {
  "kernelspec": {
   "display_name": "Python 3",
   "language": "python",
   "name": "python3"
  },
  "language_info": {
   "codemirror_mode": {
    "name": "ipython",
    "version": 3
   },
   "file_extension": ".py",
   "mimetype": "text/x-python",
   "name": "python",
   "nbconvert_exporter": "python",
   "pygments_lexer": "ipython3",
   "version": "3.8.5"
  }
 },
 "nbformat": 4,
 "nbformat_minor": 4
}
